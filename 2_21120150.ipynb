{
 "cells": [
  {
   "cell_type": "markdown",
   "id": "9469f8f1-f934-4903-a0ce-0db9e442310b",
   "metadata": {
    "tags": []
   },
   "source": [
    "# ĐỒ ÁN CUỐI KỲ\n",
    "## Môn học: Toán ứng dụng và thống kê\n",
    "## Lớp: 21_2\n",
    "## Họ và tên: Nguyễn Song Toàn\n",
    "## MSSV: 21120150\n",
    "## Đồ án số 2"
   ]
  },
  {
   "cell_type": "markdown",
   "id": "a0aa93f3-bcbb-4815-9248-b0b1b1a13498",
   "metadata": {},
   "source": [
    "<hr>"
   ]
  },
  {
   "cell_type": "markdown",
   "id": "5f7d9c87-03ae-4e15-885e-3b0e34f33e78",
   "metadata": {},
   "source": [
    "### Các hàm hỗ trợ tính toán ma trận dùng cho câu a và b"
   ]
  },
  {
   "cell_type": "code",
   "execution_count": 1,
   "id": "8e01f69f-8625-4200-88ca-c1cb3e8a4333",
   "metadata": {},
   "outputs": [],
   "source": [
    "#Tạo ra ma trận đơn vị kích thước n x n\n",
    "def create_identity_matrix(n):\n",
    "    matrix = [[0 for j in range(n)] for i in range(n)]\n",
    "    for i in range(n):\n",
    "        matrix[i][i] = 1\n",
    "    return matrix\n",
    "\n",
    "#Nhân ma trận với vector\n",
    "def multiply_matrix_vector(matrix, vector):\n",
    "    result = [0] * len(matrix)\n",
    "    for i in range(len(matrix)):\n",
    "        for j in range(len(vector)):\n",
    "            result[i] += matrix[i][j] * vector[j]\n",
    "    return result\n",
    "\n",
    "#Nhân 2 ma trận\n",
    "def multiply_two_matrixes(A, B):\n",
    "    rowsA = len(A)\n",
    "    colsA = len(A[0])\n",
    "    rowsB = len(B)\n",
    "    colsB = len(B[0])\n",
    "    \n",
    "    if colsA != rowsB:\n",
    "        raise ValueError(\"Số cột của ma trận A phải bằng số dòng của ma trận B\")\n",
    "\n",
    "    result = [[0 for _ in range(colsB)] for _ in range(rowsA)]\n",
    "\n",
    "    for i in range(rowsA):\n",
    "        for j in range(colsB):\n",
    "            for k in range(colsA):\n",
    "                result[i][j] += A[i][k] * B[k][j]\n",
    "    return result\n",
    "\n",
    "#Chuyển vị ma trận A\n",
    "def transpose_matrix(A):\n",
    "    m = len(A)\n",
    "    n = len(A[0])\n",
    "    # Tạo ma trận B với kích thước (n x m)\n",
    "    B = [[0 for j in range(m)] for i in range(n)]\n",
    "    \n",
    "    # Duyệt qua các phần tử của ma trận A và gán giá trị tại vị trí (i, j) của A bằng giá trị tại vị trí (j, i) của B\n",
    "    for i in range(m):\n",
    "        for j in range(n):\n",
    "            B[j][i] = A[i][j]\n",
    "    return B\n",
    "\n",
    "#Hoán vị 2 dòng r1 và r2 của ma trận matrix\n",
    "def swap_two_rows(matrix, r1, r2):\n",
    "    matrix[r1], matrix[r2] = matrix[r2], matrix[r1]\n",
    "    return matrix\n",
    "\n",
    "#Tìm ma trận nghịch đảo của ma trận A\n",
    "def inverse(A):\n",
    "    rows = len(A)\n",
    "    cols = len(A[0])\n",
    "\n",
    "    #Tạo ma trận (A|I)\n",
    "    identityMatrix = []\n",
    "    for i in range(rows):\n",
    "        row = [0] * rows\n",
    "        row[i] = 1\n",
    "        identityMatrix.append(row)\n",
    "\n",
    "    matrix = []\n",
    "    for i in range(rows):\n",
    "        row = A[i] + identityMatrix[i]\n",
    "        matrix.append(row)\n",
    "\n",
    "    for i in range(rows):\n",
    "        non_zero_idx = -1\n",
    "        for j in range(i, rows):\n",
    "            if matrix[j][i] != 0:\n",
    "                non_zero_idx = j\n",
    "                break\n",
    "\n",
    "        if non_zero_idx == -1:\n",
    "            print ('Ma trận không khả nghịch')\n",
    "            return None\n",
    "\n",
    "        # Hoán vị dòng\n",
    "        swap_two_rows(matrix, non_zero_idx, i)\n",
    "\n",
    "        # Bước 2: Với số hạng ở dòng thứ i là 𝑎 ≠ 0, nhân dòng i với  1/𝑎 để nhận được số 1 (nằm trên đường chéo của A).\n",
    "        non_zero_val = matrix[i][i]\n",
    "        for j in range(i, cols + rows):\n",
    "            matrix[i][j] /= non_zero_val\n",
    "\n",
    "        # Bước 3: Cộng một bội số thích hợp của dòng i với các dòng khác dòng i để biến các số hạng trên cột i về số 0 (trừ số hạng nằm ở dòng i).\n",
    "        for j in range(rows):\n",
    "            if j != i:\n",
    "                multiples_num = matrix[j][i]\n",
    "                for k in range(i, cols * 2):\n",
    "                    matrix[j][k] -= multiples_num * matrix[i][k]\n",
    "\n",
    "    # Lấy ma trận nghịch đảo A^{-1}\n",
    "    inverse_matrix = []\n",
    "    for i in range(rows):\n",
    "        row = matrix[i][cols:]\n",
    "        inverse_matrix.append(row)\n",
    "\n",
    "    return inverse_matrix\n",
    "\n",
    "#Trừ 2 vector A - B\n",
    "def subtract_two_vectors(A, B):\n",
    "    n = len(A)\n",
    "    m = len(B)\n",
    "    if (n != m):\n",
    "        raise ValueError(\"Lỗi: Kích thước không hợp lệ!\")\n",
    "    result = [0] * n\n",
    "    for i in range(n):\n",
    "        result[i] = A[i] - B[i]\n",
    "    return result"
   ]
  },
  {
   "cell_type": "markdown",
   "id": "fd5b6f20-1cb1-421a-b2bb-2a0a79f2c65d",
   "metadata": {},
   "source": [
    "<hr>"
   ]
  },
  {
   "cell_type": "markdown",
   "id": "73f70ed3-4cbf-4465-9d4e-9c06f3fda249",
   "metadata": {},
   "source": [
    "## a. Sử dụng bài toán data fitting trong việc xây dựng mô hình đánh giá giá nhà từ các yếu tố tác động từ dữ liệu được cung cấp."
   ]
  },
  {
   "cell_type": "markdown",
   "id": "5741ffd2-b869-4eff-b6a6-93ef21fbfa61",
   "metadata": {},
   "source": [
    "> Mô hình em sử dụng trong câu a này là mô hình **$ln(Y) = \\theta_{0} + \\theta_{1} x_{1} + \\theta_{2} x_{2} + \\theta_{3} x_{3} + \\theta_{4} x_{4}$**                        \n",
    "> + $x_{1}$ đại diện cho đặc trưng $sqft / 100$             \n",
    "> + $x_{2}$ đại diện cho đặc trưng Bedrooms                \n",
    "> + $x_{3}$ đại diện cho đặc trưng Baths\n",
    "> + $x_{4}$ đại diện cho đặc trưng Age"
   ]
  },
  {
   "cell_type": "markdown",
   "id": "30d71bc0-80a1-484c-86ba-972c9205a373",
   "metadata": {},
   "source": [
    "#### Đọc dữ liệu từ file br2.xlsx"
   ]
  },
  {
   "cell_type": "code",
   "execution_count": 2,
   "id": "9fcc9e30-685d-444d-bbbe-a37784a3f9f5",
   "metadata": {},
   "outputs": [],
   "source": [
    "import pandas as pd\n",
    "file = 'br2.xlsx'\n",
    "xl = pd.ExcelFile(file)\n",
    "data = xl.parse('Data')"
   ]
  },
  {
   "cell_type": "markdown",
   "id": "3048ce0d-bf29-4c24-b71c-f9db3b83abcc",
   "metadata": {},
   "source": [
    "#### Tạo vector y chứa giá trị ln(price) và ma trận A bao gồm cột chứa toàn số 1 và các đặc trưng còn lại"
   ]
  },
  {
   "cell_type": "code",
   "execution_count": 3,
   "id": "7b6d876f-d48f-4d51-9285-aad3b25fd763",
   "metadata": {},
   "outputs": [],
   "source": [
    "import math\n",
    "def create_y_A(data):\n",
    "    y = []\n",
    "    for i in range(len(data)):\n",
    "        y.append(math.log(data.iloc[i, 0]))\n",
    "\n",
    "    A = []\n",
    "    for i in range(len(data)):\n",
    "        row = []\n",
    "        row.append(1)\n",
    "        for j in range(1, 5):\n",
    "            if j == 1:\n",
    "                row.append(data.iloc[i, j] / 100)\n",
    "            else:\n",
    "                row.append(data.iloc[i, j])\n",
    "        A.append(row)\n",
    "    return y, A"
   ]
  },
  {
   "cell_type": "markdown",
   "id": "b90ebf2e-4b9d-4ef7-a728-8a31b75e17c4",
   "metadata": {
    "tags": []
   },
   "source": [
    "#### Xây dựng vector các tham số của mô hình\n",
    "Nghiệm của phương trình hồi quy tuyến tính Ax = y được tính như sau:\n",
    "$$\\hat{x} = (A^{T}A)^{-1}A^{T}y$$"
   ]
  },
  {
   "cell_type": "code",
   "execution_count": 4,
   "id": "7847e894-6431-4594-b711-d1e6f226a214",
   "metadata": {},
   "outputs": [],
   "source": [
    "def vectorTheta(A, y):\n",
    "    temp = []\n",
    "    temp = multiply_two_matrixes(transpose_matrix(A), A)\n",
    "    temp = inverse(temp)\n",
    "    temp1 = []\n",
    "    temp1 = multiply_matrix_vector(transpose_matrix(A), y)\n",
    "\n",
    "    Theta = multiply_matrix_vector(temp, temp1)\n",
    "    return Theta"
   ]
  },
  {
   "cell_type": "markdown",
   "id": "ef564b8c-a2c1-4f4c-a338-1b67c8349400",
   "metadata": {},
   "source": [
    "#### Xuất mô hình khi có danh sách biến và các tham số"
   ]
  },
  {
   "cell_type": "code",
   "execution_count": 5,
   "id": "33b38ab5-2b34-43ac-88ce-3c564761ea0f",
   "metadata": {},
   "outputs": [],
   "source": [
    "def getModel_a(Theta, x):\n",
    "    if len(Theta) != len(x) + 1:\n",
    "        raise ValueError(\"Lỗi: Kích thước không hợp lệ!\")\n",
    "\n",
    "    model = \"Y* = lnY = %.5f \"%(Theta[0])\n",
    "    n = len(x)\n",
    "    for i in range(1, n + 1):\n",
    "        if Theta[i]==0: continue\n",
    "        model += \" - %0.5f * %s\"%(abs(Theta[i]), x[i - 1]) if Theta[i] < 0 else \" + %0.5f * %s\"%(Theta[i], x[i - 1])\n",
    "    \n",
    "    return model\n",
    "\n",
    "def exportModel_a(A, y, n):\n",
    "    x = []\n",
    "    for i in range(1, n + 1):\n",
    "        x.append(\"x%d\"%(i))\n",
    "    Theta = vectorTheta(A, y)\n",
    "    model = getModel_a(Theta, x)\n",
    "    return model"
   ]
  },
  {
   "cell_type": "markdown",
   "id": "d9e11bc8-2a64-4e23-b7b5-c3c4d4775d47",
   "metadata": {},
   "source": [
    "#### Tạo ra vector $\\hat(Y)$ từ ma trận A và vector Theta"
   ]
  },
  {
   "cell_type": "code",
   "execution_count": 6,
   "id": "459e166b-a399-4220-ad25-070b885bc5ff",
   "metadata": {},
   "outputs": [],
   "source": [
    "def vectorYhat(A, Theta):\n",
    "    result = []\n",
    "    for i in range(len(A)):\n",
    "        s = 0\n",
    "        for j in range(len(Theta)):\n",
    "            s += A[i][j] * Theta[j]\n",
    "        result.append(s)\n",
    "    return result"
   ]
  },
  {
   "cell_type": "markdown",
   "id": "1f159026-ae1f-46d1-86ee-5a88d06f5704",
   "metadata": {},
   "source": [
    "#### Tính chuẩn vector phần dư của mô hình"
   ]
  },
  {
   "cell_type": "code",
   "execution_count": 7,
   "id": "923d4bac-b09c-4a8d-bce1-bd20767e1ff8",
   "metadata": {},
   "outputs": [],
   "source": [
    "def get_error(y, A):\n",
    "    Theta = vectorTheta(A, y)\n",
    "    y_hat = vectorYhat(A, Theta)\n",
    "    error = 0\n",
    "    for i in range(len(y)):\n",
    "        error += (y_hat[i] - y[i]) ** 2;\n",
    "    return error**0.5"
   ]
  },
  {
   "cell_type": "code",
   "execution_count": 26,
   "id": "4d9a5ee1-4078-4ade-ae69-44056950a270",
   "metadata": {},
   "outputs": [
    {
     "name": "stdout",
     "output_type": "stream",
     "text": [
      "Mô hình đánh giá giá nhà:\n",
      "Y* = lnY = 10.91896  + 0.03308 * x1 - 0.05895 * x2 + 0.21457 * x3 - 0.00660 * x4\n",
      "Chuẩn vector phần dư là: 9.12\n"
     ]
    }
   ],
   "source": [
    "y, A = create_y_A(data)\n",
    "Theta = vectorTheta(A, y)\n",
    "print(\"Mô hình đánh giá giá nhà:\")\n",
    "print(exportModel_a(A, y, 4))\n",
    "print(\"Chuẩn vector phần dư là: %.2f\"%get_error(y, A))"
   ]
  },
  {
   "cell_type": "markdown",
   "id": "b3a2f58c-135d-4987-b0ef-6c3175ab3afd",
   "metadata": {},
   "source": [
    "<hr>"
   ]
  },
  {
   "cell_type": "markdown",
   "id": "ca2ef3a5-5e4a-42bb-a2b2-b5b8606eddd4",
   "metadata": {},
   "source": [
    "## b. Sử dụng bài toán data fitting trong xây dựng mô hình đánh giá lương nhân viên từ các yếu tố tác động theo dữ liệu được cung cấp."
   ]
  },
  {
   "cell_type": "markdown",
   "id": "fd24c3f4-9fd6-42ef-98a3-feecc8e0bf17",
   "metadata": {},
   "source": [
    "> Mô hình em sử dụng trong câu b này là mô hình **$ln(Y) = \\theta_{0} + \\theta_{1} x_{1} + \\theta_{2} x_{2} + \\theta_{3} x_{3}$**                        \n",
    "> + $x_{1}$ đại diện cho đặc trưng educ             \n",
    "> + $x_{2}$ đại diện cho đặc trưng exper                \n",
    "> + $x_{3}$ đại diện cho đặc trưng hrswk"
   ]
  },
  {
   "cell_type": "markdown",
   "id": "c7320bbc-3d43-4e2a-8c3e-29c8bd4a2a7a",
   "metadata": {},
   "source": [
    "#### Đọc dữ liệu từ file cps4_small.xlsx"
   ]
  },
  {
   "cell_type": "code",
   "execution_count": 20,
   "id": "732c9b0b-6408-47ad-a973-f6d68708ba33",
   "metadata": {},
   "outputs": [],
   "source": [
    "file2 = 'cps4_small.xlsx'\n",
    "xl2 = pd.ExcelFile(file2)\n",
    "data2 = xl2.parse('Data')"
   ]
  },
  {
   "cell_type": "markdown",
   "id": "9d714cc8-0d8a-4aa6-819b-b6f4b86b730a",
   "metadata": {},
   "source": [
    "#### Tạo vector y chứa giá trị ln(wage) và ma trận A bao gồm cột chứa toàn số 1 và các đặc trưng còn lại"
   ]
  },
  {
   "cell_type": "code",
   "execution_count": 21,
   "id": "414dc818-3b12-46eb-88ed-c4ecf7023c31",
   "metadata": {},
   "outputs": [],
   "source": [
    "import math\n",
    "def create_y_A_b(data):\n",
    "    y = []\n",
    "    for i in range(len(data)):\n",
    "        y.append(math.log(data.iloc[i, 0]))\n",
    "\n",
    "    A = []\n",
    "    for i in range(len(data)):\n",
    "        row = []\n",
    "        row.append(1)\n",
    "        for j in range(1, 4):\n",
    "            row.append(data.iloc[i, j])\n",
    "        A.append(row)\n",
    "    return y, A"
   ]
  },
  {
   "cell_type": "markdown",
   "id": "6abd7aa8-2d9c-4a2e-92b9-d55f808d35fe",
   "metadata": {
    "tags": []
   },
   "source": [
    "#### Xuất mô hình khi có danh sách biến và các tham số"
   ]
  },
  {
   "cell_type": "code",
   "execution_count": 25,
   "id": "125a03ac-79ee-4e63-a186-9d63cbb3d84d",
   "metadata": {},
   "outputs": [
    {
     "name": "stdout",
     "output_type": "stream",
     "text": [
      "Mô hình đánh giá lương nhân viên:\n",
      "Y* = lnY = 1.10054  + 0.09031 * x1 + 0.00578 * x2 + 0.00894 * x3\n",
      "Chuẩn vector phần dư là: 16.21\n"
     ]
    }
   ],
   "source": [
    "y_b, A_b = create_y_A_b(data2)\n",
    "Theta_b = vectorTheta(A, y)\n",
    "print(\"Mô hình đánh giá lương nhân viên:\")\n",
    "print(exportModel_a(A_b, y_b, 3))\n",
    "print(\"Chuẩn vector phần dư là: %.2f\"%get_error(y_b, A_b))"
   ]
  },
  {
   "cell_type": "markdown",
   "id": "3c56ec65-a5eb-4e4d-bccc-65a3c971f592",
   "metadata": {},
   "source": [
    "<hr>"
   ]
  }
 ],
 "metadata": {
  "kernelspec": {
   "display_name": "Python 3 (ipykernel)",
   "language": "python",
   "name": "python3"
  },
  "language_info": {
   "codemirror_mode": {
    "name": "ipython",
    "version": 3
   },
   "file_extension": ".py",
   "mimetype": "text/x-python",
   "name": "python",
   "nbconvert_exporter": "python",
   "pygments_lexer": "ipython3",
   "version": "3.9.13"
  }
 },
 "nbformat": 4,
 "nbformat_minor": 5
}
